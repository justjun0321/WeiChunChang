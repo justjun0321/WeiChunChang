{
 "cells": [
  {
   "cell_type": "markdown",
   "metadata": {
    "_uuid": "acc4f4a9799247dcc537a7384ca357965b097f50"
   },
   "source": [
    "![google](http://img.technews.tw/wp-content/uploads/2015/09/Google-logo_1.jpg)\n",
    "**Google** is one of my dream company. I believe lots of data scientists want to join Google, just like me. However, people might wonder what I need to acquire to be qualified to work in Google. I create this kernel to answer this question. And hope you enjoy!\n",
    "\n"
   ]
  },
  {
   "cell_type": "markdown",
   "metadata": {
    "_uuid": "687be33820b5617d681bc016493a5ab70e2b2d4a"
   },
   "source": [
    "## Dataset Overlook"
   ]
  },
  {
   "cell_type": "code",
   "execution_count": 1,
   "metadata": {
    "_cell_guid": "79c7e3d0-c299-4dcb-8224-4455121ee9b0",
    "_uuid": "d629ff2d2480ee46fbb7e2d37f6b5fab8052498a"
   },
   "outputs": [],
   "source": [
    "import numpy as np\n",
    "import pandas as pd\n",
    "import matplotlib.pyplot as plt\n",
    "%matplotlib inline\n",
    "import seaborn as sns\n",
    "plt.style.use('ggplot')"
   ]
  },
  {
   "cell_type": "code",
   "execution_count": 2,
   "metadata": {
    "_uuid": "bade9646df9c09675ac34f10b2640ffe47601c71"
   },
   "outputs": [],
   "source": [
    "df = pd.read_csv('job_skills.csv')"
   ]
  },
  {
   "cell_type": "code",
   "execution_count": 3,
   "metadata": {
    "_uuid": "6fbf6317900fcca5a190e932c362b48051e0d8d5"
   },
   "outputs": [
    {
     "data": {
      "text/html": [
       "<div>\n",
       "<style scoped>\n",
       "    .dataframe tbody tr th:only-of-type {\n",
       "        vertical-align: middle;\n",
       "    }\n",
       "\n",
       "    .dataframe tbody tr th {\n",
       "        vertical-align: top;\n",
       "    }\n",
       "\n",
       "    .dataframe thead th {\n",
       "        text-align: right;\n",
       "    }\n",
       "</style>\n",
       "<table border=\"1\" class=\"dataframe\">\n",
       "  <thead>\n",
       "    <tr style=\"text-align: right;\">\n",
       "      <th></th>\n",
       "      <th>Company</th>\n",
       "      <th>Title</th>\n",
       "      <th>Category</th>\n",
       "      <th>Location</th>\n",
       "      <th>Responsibilities</th>\n",
       "      <th>Minimum Qualifications</th>\n",
       "      <th>Preferred Qualifications</th>\n",
       "    </tr>\n",
       "  </thead>\n",
       "  <tbody>\n",
       "    <tr>\n",
       "      <th>0</th>\n",
       "      <td>Google</td>\n",
       "      <td>Google Cloud Program Manager</td>\n",
       "      <td>Program Management</td>\n",
       "      <td>Singapore</td>\n",
       "      <td>Shape, shepherd, ship, and show technical prog...</td>\n",
       "      <td>BA/BS degree or equivalent practical experienc...</td>\n",
       "      <td>Experience in the business technology market a...</td>\n",
       "    </tr>\n",
       "    <tr>\n",
       "      <th>1</th>\n",
       "      <td>Google</td>\n",
       "      <td>Supplier Development Engineer (SDE), Cable/Con...</td>\n",
       "      <td>Manufacturing &amp; Supply Chain</td>\n",
       "      <td>Shanghai, China</td>\n",
       "      <td>Drive cross-functional activities in the suppl...</td>\n",
       "      <td>BS degree in an Engineering discipline or equi...</td>\n",
       "      <td>BSEE, BSME or BSIE degree.\\nExperience of usin...</td>\n",
       "    </tr>\n",
       "    <tr>\n",
       "      <th>2</th>\n",
       "      <td>Google</td>\n",
       "      <td>Data Analyst, Product and Tools Operations, Go...</td>\n",
       "      <td>Technical Solutions</td>\n",
       "      <td>New York, NY, United States</td>\n",
       "      <td>Collect and analyze data to draw insight and i...</td>\n",
       "      <td>Bachelor’s degree in Business, Economics, Stat...</td>\n",
       "      <td>Experience partnering or consulting cross-func...</td>\n",
       "    </tr>\n",
       "    <tr>\n",
       "      <th>3</th>\n",
       "      <td>Google</td>\n",
       "      <td>Developer Advocate, Partner Engineering</td>\n",
       "      <td>Developer Relations</td>\n",
       "      <td>Mountain View, CA, United States</td>\n",
       "      <td>Work one-on-one with the top Android, iOS, and...</td>\n",
       "      <td>BA/BS degree in Computer Science or equivalent...</td>\n",
       "      <td>Experience as a software developer, architect,...</td>\n",
       "    </tr>\n",
       "    <tr>\n",
       "      <th>4</th>\n",
       "      <td>Google</td>\n",
       "      <td>Program Manager, Audio Visual (AV) Deployments</td>\n",
       "      <td>Program Management</td>\n",
       "      <td>Sunnyvale, CA, United States</td>\n",
       "      <td>Plan requirements with internal customers.\\nPr...</td>\n",
       "      <td>BA/BS degree or equivalent practical experienc...</td>\n",
       "      <td>CTS Certification.\\nExperience in the construc...</td>\n",
       "    </tr>\n",
       "  </tbody>\n",
       "</table>\n",
       "</div>"
      ],
      "text/plain": [
       "  Company                                              Title  \\\n",
       "0  Google                       Google Cloud Program Manager   \n",
       "1  Google  Supplier Development Engineer (SDE), Cable/Con...   \n",
       "2  Google  Data Analyst, Product and Tools Operations, Go...   \n",
       "3  Google            Developer Advocate, Partner Engineering   \n",
       "4  Google     Program Manager, Audio Visual (AV) Deployments   \n",
       "\n",
       "                       Category                          Location  \\\n",
       "0            Program Management                         Singapore   \n",
       "1  Manufacturing & Supply Chain                   Shanghai, China   \n",
       "2           Technical Solutions       New York, NY, United States   \n",
       "3           Developer Relations  Mountain View, CA, United States   \n",
       "4            Program Management      Sunnyvale, CA, United States   \n",
       "\n",
       "                                    Responsibilities  \\\n",
       "0  Shape, shepherd, ship, and show technical prog...   \n",
       "1  Drive cross-functional activities in the suppl...   \n",
       "2  Collect and analyze data to draw insight and i...   \n",
       "3  Work one-on-one with the top Android, iOS, and...   \n",
       "4  Plan requirements with internal customers.\\nPr...   \n",
       "\n",
       "                              Minimum Qualifications  \\\n",
       "0  BA/BS degree or equivalent practical experienc...   \n",
       "1  BS degree in an Engineering discipline or equi...   \n",
       "2  Bachelor’s degree in Business, Economics, Stat...   \n",
       "3  BA/BS degree in Computer Science or equivalent...   \n",
       "4  BA/BS degree or equivalent practical experienc...   \n",
       "\n",
       "                            Preferred Qualifications  \n",
       "0  Experience in the business technology market a...  \n",
       "1  BSEE, BSME or BSIE degree.\\nExperience of usin...  \n",
       "2  Experience partnering or consulting cross-func...  \n",
       "3  Experience as a software developer, architect,...  \n",
       "4  CTS Certification.\\nExperience in the construc...  "
      ]
     },
     "execution_count": 3,
     "metadata": {},
     "output_type": "execute_result"
    }
   ],
   "source": [
    "df.head()"
   ]
  },
  {
   "cell_type": "markdown",
   "metadata": {},
   "source": [
    "## Data Cleaning"
   ]
  },
  {
   "cell_type": "code",
   "execution_count": 4,
   "metadata": {
    "_uuid": "ba9f069b7fc5e3ae008d89b902535b2f558ea801"
   },
   "outputs": [],
   "source": [
    "# I modify the column name so that I can use df dot column name more easily\n",
    "df = df.rename(columns={'Minimum Qualifications': 'Minimum_Qualifications', 'Preferred Qualifications': 'Preferred_Qualifications'})"
   ]
  },
  {
   "cell_type": "markdown",
   "metadata": {
    "_uuid": "456bee8048d1a7d2c83b8dd051c5c6bd89b5f7bd"
   },
   "source": [
    "I'll check if there is any NaN"
   ]
  },
  {
   "cell_type": "code",
   "execution_count": 5,
   "metadata": {
    "_uuid": "c595e1a2240f3f96fb5e71e6d6d53ad9b8a85084"
   },
   "outputs": [
    {
     "data": {
      "text/plain": [
       "Company                      0\n",
       "Title                        0\n",
       "Category                     0\n",
       "Location                     0\n",
       "Responsibilities            15\n",
       "Minimum_Qualifications      14\n",
       "Preferred_Qualifications    14\n",
       "dtype: int64"
      ]
     },
     "execution_count": 5,
     "metadata": {},
     "output_type": "execute_result"
    }
   ],
   "source": [
    "pd.isnull(df).sum()"
   ]
  },
  {
   "cell_type": "markdown",
   "metadata": {
    "_uuid": "5280a26bb696f770df037aa5e26076617388dfc1"
   },
   "source": [
    "I'll straightly drop these rows with NaN"
   ]
  },
  {
   "cell_type": "code",
   "execution_count": 6,
   "metadata": {
    "_uuid": "451a4cb726a94b438fa5cd9b1be5a058debfb0b3"
   },
   "outputs": [],
   "source": [
    "df = df.dropna(how='any',axis='rows')"
   ]
  },
  {
   "cell_type": "markdown",
   "metadata": {
    "_uuid": "3daec67cd5401e72ad6dfd2748c409e4c41273d5"
   },
   "source": [
    "Here, the first thing I want to check is the values_count of each column"
   ]
  },
  {
   "cell_type": "code",
   "execution_count": 7,
   "metadata": {
    "_uuid": "e8401721e7e1cd841f569b84cc98d44e4113300b"
   },
   "outputs": [
    {
     "data": {
      "text/plain": [
       "Google     1212\n",
       "YouTube      23\n",
       "Name: Company, dtype: int64"
      ]
     },
     "execution_count": 7,
     "metadata": {},
     "output_type": "execute_result"
    }
   ],
   "source": [
    "df.Company.value_counts()"
   ]
  },
  {
   "cell_type": "markdown",
   "metadata": {
    "_uuid": "ca658db63577b6d3929d618be680d9b12522de5e"
   },
   "source": [
    "Ah! Right. I forgot that Youtube is also part of Google. However, for me, working in Youtube is not as appealing as working in Google. But Youtube is still a great company. No offence haha!"
   ]
  },
  {
   "cell_type": "code",
   "execution_count": 8,
   "metadata": {
    "_uuid": "a2f467b62d7258ca22c98eda71737c14a2f6aa38"
   },
   "outputs": [],
   "source": [
    "# So I drop Youtube\n",
    "df = df[df.Company != 'YouTube']"
   ]
  },
  {
   "cell_type": "code",
   "execution_count": 9,
   "metadata": {
    "_kg_hide-input": true,
    "_uuid": "49d2c34afabad131f1e1d86fd21e92afd6e5c29c"
   },
   "outputs": [
    {
     "data": {
      "text/plain": [
       "Business Intern 2018                          35\n",
       "MBA Intern, Summer 2018                       34\n",
       "MBA Intern 2018                               28\n",
       "BOLD Intern, Summer 2018                      21\n",
       "Field Sales Representative, Google Cloud      17\n",
       "Interaction Designer                          12\n",
       "User Experience Researcher                     9\n",
       "Partner Sales Engineer, Google Cloud           7\n",
       "Recruiter                                      7\n",
       "User Experience Design Intern, Summer 2018     7\n",
       "Name: Title, dtype: int64"
      ]
     },
     "execution_count": 9,
     "metadata": {},
     "output_type": "execute_result"
    }
   ],
   "source": [
    "df.Title.value_counts()[:10]"
   ]
  },
  {
   "cell_type": "code",
   "execution_count": 10,
   "metadata": {
    "_uuid": "a65eb820b94bcbd7f829e2325e9d357821213947"
   },
   "outputs": [
    {
     "data": {
      "text/plain": [
       "Mountain View, CA, United States    187\n",
       "Sunnyvale, CA, United States        155\n",
       "Dublin, Ireland                      87\n",
       "New York, NY, United States          68\n",
       "London, United Kingdom               61\n",
       "San Francisco, CA, United States     49\n",
       "Singapore                            39\n",
       "Sydney, Australia                    31\n",
       "Tokyo, Japan                         31\n",
       "Shanghai, China                      27\n",
       "Name: Location, dtype: int64"
      ]
     },
     "execution_count": 10,
     "metadata": {},
     "output_type": "execute_result"
    }
   ],
   "source": [
    "df.Location.value_counts()[:10]"
   ]
  },
  {
   "cell_type": "code",
   "execution_count": 11,
   "metadata": {
    "_uuid": "ba17fd2c5f7b4022cda9d016d0be0659f774e992"
   },
   "outputs": [],
   "source": [
    "df['Country'] = df['Location'].apply(lambda x : x.split(',')[-1])"
   ]
  },
  {
   "cell_type": "code",
   "execution_count": 12,
   "metadata": {
    "_uuid": "6e21c987ed48431c7e043741fcb9ff72ca162e8a"
   },
   "outputs": [
    {
     "data": {
      "text/plain": [
       " United States     607\n",
       " Ireland            87\n",
       " United Kingdom     61\n",
       " Germany            53\n",
       "Singapore           39\n",
       " China              38\n",
       " Australia          35\n",
       " Japan              31\n",
       " Taiwan             30\n",
       " India              27\n",
       " Switzerland        22\n",
       " France             20\n",
       " Brazil             15\n",
       " Israel             11\n",
       " Poland             11\n",
       "Name: Country, dtype: int64"
      ]
     },
     "execution_count": 12,
     "metadata": {},
     "output_type": "execute_result"
    }
   ],
   "source": [
    "df.Country.value_counts()[:15]"
   ]
  },
  {
   "cell_type": "markdown",
   "metadata": {
    "_uuid": "2f61d49386f94172d5af8d47ec4c9647ee925e65"
   },
   "source": [
    "## Feature Engineering\n",
    "\n",
    "**Here, I want to extract the year of work experience in each position.**\n",
    "\n",
    "The challenge is : \n",
    "\n",
    "* There might be some positions requiring work experience in different field\n",
    "* There might be some positions that don't mention work experience at all"
   ]
  },
  {
   "cell_type": "code",
   "execution_count": 13,
   "metadata": {
    "_uuid": "f7800c0458c876e81f4a532d717a8bcfe0a9b9ee"
   },
   "outputs": [],
   "source": [
    "# The way to extract year refer to https://www.kaggle.com/niyamatalmass/what-you-need-to-get-a-job-at-google.\n",
    "# Thanks Niyamat Ullah for such brilliant way. Go check his kernel. It's great!\n",
    "import re\n",
    "df['Minimum_years_experience'] = df['Minimum_Qualifications'].apply(lambda x : re.findall(r'([0-9]+) year',x))\n",
    "# Fill empty list with [0]\n",
    "df['Minimum_years_experience'] = df['Minimum_years_experience'].apply(lambda y : [0] if len(y)==0 else y)\n",
    "#Then extract maximum in the list to have the work experience requirement\n",
    "df['Minimum_years_experience'] = df['Minimum_years_experience'].apply(lambda z : max(z))\n",
    "df['Minimum_years_experience'] = df.Minimum_years_experience.astype(int)"
   ]
  },
  {
   "cell_type": "code",
   "execution_count": 14,
   "metadata": {
    "_uuid": "70682b34952399566bf859b7d0d7dc205e484e9b"
   },
   "outputs": [
    {
     "data": {
      "text/html": [
       "<div>\n",
       "<style scoped>\n",
       "    .dataframe tbody tr th:only-of-type {\n",
       "        vertical-align: middle;\n",
       "    }\n",
       "\n",
       "    .dataframe tbody tr th {\n",
       "        vertical-align: top;\n",
       "    }\n",
       "\n",
       "    .dataframe thead th {\n",
       "        text-align: right;\n",
       "    }\n",
       "</style>\n",
       "<table border=\"1\" class=\"dataframe\">\n",
       "  <thead>\n",
       "    <tr style=\"text-align: right;\">\n",
       "      <th></th>\n",
       "      <th>Company</th>\n",
       "      <th>Title</th>\n",
       "      <th>Category</th>\n",
       "      <th>Location</th>\n",
       "      <th>Responsibilities</th>\n",
       "      <th>Minimum_Qualifications</th>\n",
       "      <th>Preferred_Qualifications</th>\n",
       "      <th>Country</th>\n",
       "      <th>Minimum_years_experience</th>\n",
       "    </tr>\n",
       "  </thead>\n",
       "  <tbody>\n",
       "    <tr>\n",
       "      <th>0</th>\n",
       "      <td>Google</td>\n",
       "      <td>Google Cloud Program Manager</td>\n",
       "      <td>Program Management</td>\n",
       "      <td>Singapore</td>\n",
       "      <td>Shape, shepherd, ship, and show technical prog...</td>\n",
       "      <td>BA/BS degree or equivalent practical experienc...</td>\n",
       "      <td>Experience in the business technology market a...</td>\n",
       "      <td>Singapore</td>\n",
       "      <td>3</td>\n",
       "    </tr>\n",
       "    <tr>\n",
       "      <th>1</th>\n",
       "      <td>Google</td>\n",
       "      <td>Supplier Development Engineer (SDE), Cable/Con...</td>\n",
       "      <td>Manufacturing &amp; Supply Chain</td>\n",
       "      <td>Shanghai, China</td>\n",
       "      <td>Drive cross-functional activities in the suppl...</td>\n",
       "      <td>BS degree in an Engineering discipline or equi...</td>\n",
       "      <td>BSEE, BSME or BSIE degree.\\nExperience of usin...</td>\n",
       "      <td>China</td>\n",
       "      <td>7</td>\n",
       "    </tr>\n",
       "    <tr>\n",
       "      <th>2</th>\n",
       "      <td>Google</td>\n",
       "      <td>Data Analyst, Product and Tools Operations, Go...</td>\n",
       "      <td>Technical Solutions</td>\n",
       "      <td>New York, NY, United States</td>\n",
       "      <td>Collect and analyze data to draw insight and i...</td>\n",
       "      <td>Bachelor’s degree in Business, Economics, Stat...</td>\n",
       "      <td>Experience partnering or consulting cross-func...</td>\n",
       "      <td>United States</td>\n",
       "      <td>2</td>\n",
       "    </tr>\n",
       "  </tbody>\n",
       "</table>\n",
       "</div>"
      ],
      "text/plain": [
       "  Company                                              Title  \\\n",
       "0  Google                       Google Cloud Program Manager   \n",
       "1  Google  Supplier Development Engineer (SDE), Cable/Con...   \n",
       "2  Google  Data Analyst, Product and Tools Operations, Go...   \n",
       "\n",
       "                       Category                     Location  \\\n",
       "0            Program Management                    Singapore   \n",
       "1  Manufacturing & Supply Chain              Shanghai, China   \n",
       "2           Technical Solutions  New York, NY, United States   \n",
       "\n",
       "                                    Responsibilities  \\\n",
       "0  Shape, shepherd, ship, and show technical prog...   \n",
       "1  Drive cross-functional activities in the suppl...   \n",
       "2  Collect and analyze data to draw insight and i...   \n",
       "\n",
       "                              Minimum_Qualifications  \\\n",
       "0  BA/BS degree or equivalent practical experienc...   \n",
       "1  BS degree in an Engineering discipline or equi...   \n",
       "2  Bachelor’s degree in Business, Economics, Stat...   \n",
       "\n",
       "                            Preferred_Qualifications         Country  \\\n",
       "0  Experience in the business technology market a...       Singapore   \n",
       "1  BSEE, BSME or BSIE degree.\\nExperience of usin...           China   \n",
       "2  Experience partnering or consulting cross-func...   United States   \n",
       "\n",
       "   Minimum_years_experience  \n",
       "0                         3  \n",
       "1                         7  \n",
       "2                         2  "
      ]
     },
     "execution_count": 14,
     "metadata": {},
     "output_type": "execute_result"
    }
   ],
   "source": [
    "df.head(3)"
   ]
  },
  {
   "cell_type": "code",
   "execution_count": 15,
   "metadata": {
    "_uuid": "83f6d7f4766f3a98e3e69cc6ade232dc94c43193"
   },
   "outputs": [
    {
     "data": {
      "text/plain": [
       "count    1212.000000\n",
       "mean        2.842409\n",
       "std         3.301640\n",
       "min         0.000000\n",
       "25%         0.000000\n",
       "50%         2.000000\n",
       "75%         5.000000\n",
       "max        15.000000\n",
       "Name: Minimum_years_experience, dtype: float64"
      ]
     },
     "execution_count": 15,
     "metadata": {},
     "output_type": "execute_result"
    }
   ],
   "source": [
    "df.Minimum_years_experience.describe()"
   ]
  },
  {
   "cell_type": "code",
   "execution_count": 16,
   "metadata": {
    "_uuid": "2ce6c16673ae80542f127d197258fbe4b3d45adb"
   },
   "outputs": [
    {
     "data": {
      "text/plain": [
       "Sales & Account Management    167\n",
       "Marketing & Communications    161\n",
       "Finance                       112\n",
       "Technical Solutions           100\n",
       "Business Strategy              92\n",
       "People Operations              86\n",
       "User Experience & Design       83\n",
       "Program Management             72\n",
       "Partnerships                   58\n",
       "Product & Customer Support     48\n",
       "Name: Category, dtype: int64"
      ]
     },
     "execution_count": 16,
     "metadata": {},
     "output_type": "execute_result"
    }
   ],
   "source": [
    "df.Category.value_counts()[:10]"
   ]
  },
  {
   "cell_type": "markdown",
   "metadata": {
    "_uuid": "cccabbe6658049f58f91b46fadccc06bf5d207a9"
   },
   "source": [
    "## <a id=\"0\">Exploratory</a>"
   ]
  },
  {
   "cell_type": "code",
   "execution_count": 17,
   "metadata": {
    "_uuid": "bc20daf6fa577857da136f29ac8ca20dd3db2413"
   },
   "outputs": [
    {
     "data": {
      "text/html": [
       "<div>\n",
       "<style scoped>\n",
       "    .dataframe tbody tr th:only-of-type {\n",
       "        vertical-align: middle;\n",
       "    }\n",
       "\n",
       "    .dataframe tbody tr th {\n",
       "        vertical-align: top;\n",
       "    }\n",
       "\n",
       "    .dataframe thead th {\n",
       "        text-align: right;\n",
       "    }\n",
       "</style>\n",
       "<table border=\"1\" class=\"dataframe\">\n",
       "  <thead>\n",
       "    <tr style=\"text-align: right;\">\n",
       "      <th></th>\n",
       "      <th>Company</th>\n",
       "      <th>Title</th>\n",
       "      <th>Category</th>\n",
       "      <th>Location</th>\n",
       "      <th>Responsibilities</th>\n",
       "      <th>Minimum_Qualifications</th>\n",
       "      <th>Preferred_Qualifications</th>\n",
       "      <th>Country</th>\n",
       "      <th>Minimum_years_experience</th>\n",
       "    </tr>\n",
       "  </thead>\n",
       "  <tbody>\n",
       "    <tr>\n",
       "      <th>0</th>\n",
       "      <td>Google</td>\n",
       "      <td>Google Cloud Program Manager</td>\n",
       "      <td>Program Management</td>\n",
       "      <td>Singapore</td>\n",
       "      <td>Shape, shepherd, ship, and show technical programs designed to support the work of Cloud Customer Engineers and Solutions Architects.\\nMeasure and report on key metrics tied to those programs to identify any need to change course, cancel, or scale the programs from a regional to global platform.\\nCommunicate status and identify any obstacles and paths for resolution to stakeholders, including those in senior roles, in a transparent, regular, professional and timely manner.\\nEstablish expectations and rationale on deliverables for stakeholders and program contributors.\\nProvide program performance feedback to teams in Product, Engineering, Sales, and Marketing (among others) to enable efficient cross-team operations.</td>\n",
       "      <td>BA/BS degree or equivalent practical experience.\\n3 years of experience in program and/or project management in cloud computing, enterprise software and/or marketing technologies.</td>\n",
       "      <td>Experience in the business technology market as a program manager in SaaS, cloud computing, and/or emerging technologies.\\nSignificant cross-functional experience across engineering, sales, and marketing teams in cloud computing or related technical fields.\\nProven successful program outcomes from idea to launch in multiple contexts throughout your career.\\nAbility to manage the expectations, demands and priorities of multiple internal stakeholders based on overarching vision and success for global team health.\\nAbility to work under pressure and possess flexibility with changing needs and direction in a rapidly-growing organization.\\nStrong organization and communication skills.</td>\n",
       "      <td>Singapore</td>\n",
       "      <td>3</td>\n",
       "    </tr>\n",
       "  </tbody>\n",
       "</table>\n",
       "</div>"
      ],
      "text/plain": [
       "  Company                         Title            Category   Location  \\\n",
       "0  Google  Google Cloud Program Manager  Program Management  Singapore   \n",
       "\n",
       "                                                                                                                                                                                                                                                                                                                                                                                                                                                                                                                                                                                                                                                                                                                                        Responsibilities  \\\n",
       "0  Shape, shepherd, ship, and show technical programs designed to support the work of Cloud Customer Engineers and Solutions Architects.\\nMeasure and report on key metrics tied to those programs to identify any need to change course, cancel, or scale the programs from a regional to global platform.\\nCommunicate status and identify any obstacles and paths for resolution to stakeholders, including those in senior roles, in a transparent, regular, professional and timely manner.\\nEstablish expectations and rationale on deliverables for stakeholders and program contributors.\\nProvide program performance feedback to teams in Product, Engineering, Sales, and Marketing (among others) to enable efficient cross-team operations.   \n",
       "\n",
       "                                                                                                                                                                Minimum_Qualifications  \\\n",
       "0  BA/BS degree or equivalent practical experience.\\n3 years of experience in program and/or project management in cloud computing, enterprise software and/or marketing technologies.   \n",
       "\n",
       "                                                                                                                                                                                                                                                                                                                                                                                                                                                                                                                                                                                                                                                                                           Preferred_Qualifications  \\\n",
       "0  Experience in the business technology market as a program manager in SaaS, cloud computing, and/or emerging technologies.\\nSignificant cross-functional experience across engineering, sales, and marketing teams in cloud computing or related technical fields.\\nProven successful program outcomes from idea to launch in multiple contexts throughout your career.\\nAbility to manage the expectations, demands and priorities of multiple internal stakeholders based on overarching vision and success for global team health.\\nAbility to work under pressure and possess flexibility with changing needs and direction in a rapidly-growing organization.\\nStrong organization and communication skills.   \n",
       "\n",
       "     Country  Minimum_years_experience  \n",
       "0  Singapore  3                         "
      ]
     },
     "execution_count": 17,
     "metadata": {},
     "output_type": "execute_result"
    }
   ],
   "source": [
    "pd.set_option('display.max_colwidth', -1)\n",
    "df.head(1)"
   ]
  },
  {
   "cell_type": "markdown",
   "metadata": {
    "_uuid": "06b3f0beff0f433a99b6ffe72c2f06741be363b7"
   },
   "source": [
    "Here, I want to extract degree requirement of each rows. Also, the language required for each role."
   ]
  },
  {
   "cell_type": "code",
   "execution_count": 18,
   "metadata": {
    "_uuid": "c12ceec7fbb5157d442c3d8187e0a8e8dc0d7e6a"
   },
   "outputs": [
    {
     "name": "stdout",
     "output_type": "stream",
     "text": [
      "{'BA': 890, 'BS': 860, 'Bachelor': 163, 'MBA': 71, 'Master': 80, 'PhD': 8}\n"
     ]
    }
   ],
   "source": [
    "Degree = ['BA','BS','Bachelor','MBA','Master','PhD']\n",
    "\n",
    "Degrees = dict((x,0) for x in Degree)\n",
    "for i in Degree:\n",
    "    x = df['Minimum_Qualifications'].str.contains(i).sum()\n",
    "    if i in Degrees:\n",
    "        Degrees[i] = x\n",
    "        \n",
    "print(Degrees)"
   ]
  },
  {
   "cell_type": "code",
   "execution_count": 19,
   "metadata": {
    "_uuid": "a186660f5642e0b010304f2be8a19519645fa685"
   },
   "outputs": [
    {
     "data": {
      "text/html": [
       "<div>\n",
       "<style scoped>\n",
       "    .dataframe tbody tr th:only-of-type {\n",
       "        vertical-align: middle;\n",
       "    }\n",
       "\n",
       "    .dataframe tbody tr th {\n",
       "        vertical-align: top;\n",
       "    }\n",
       "\n",
       "    .dataframe thead th {\n",
       "        text-align: right;\n",
       "    }\n",
       "</style>\n",
       "<table border=\"1\" class=\"dataframe\">\n",
       "  <thead>\n",
       "    <tr style=\"text-align: right;\">\n",
       "      <th></th>\n",
       "      <th>Degree</th>\n",
       "      <th>Count</th>\n",
       "    </tr>\n",
       "  </thead>\n",
       "  <tbody>\n",
       "    <tr>\n",
       "      <th>0</th>\n",
       "      <td>BA</td>\n",
       "      <td>890</td>\n",
       "    </tr>\n",
       "    <tr>\n",
       "      <th>1</th>\n",
       "      <td>BS</td>\n",
       "      <td>860</td>\n",
       "    </tr>\n",
       "    <tr>\n",
       "      <th>2</th>\n",
       "      <td>Bachelor</td>\n",
       "      <td>163</td>\n",
       "    </tr>\n",
       "    <tr>\n",
       "      <th>3</th>\n",
       "      <td>Master</td>\n",
       "      <td>80</td>\n",
       "    </tr>\n",
       "    <tr>\n",
       "      <th>4</th>\n",
       "      <td>MBA</td>\n",
       "      <td>71</td>\n",
       "    </tr>\n",
       "    <tr>\n",
       "      <th>5</th>\n",
       "      <td>PhD</td>\n",
       "      <td>8</td>\n",
       "    </tr>\n",
       "  </tbody>\n",
       "</table>\n",
       "</div>"
      ],
      "text/plain": [
       "     Degree  Count\n",
       "0  BA        890  \n",
       "1  BS        860  \n",
       "2  Bachelor  163  \n",
       "3  Master    80   \n",
       "4  MBA       71   \n",
       "5  PhD       8    "
      ]
     },
     "execution_count": 19,
     "metadata": {},
     "output_type": "execute_result"
    }
   ],
   "source": [
    "degree_requirement = sorted(Degrees.items(), key=lambda x: x[1], reverse=True)\n",
    "degree = pd.DataFrame(degree_requirement,columns=['Degree','Count'])\n",
    "degree['Count'] = degree.Count.astype('int')\n",
    "degree"
   ]
  },
  {
   "cell_type": "code",
   "execution_count": 20,
   "metadata": {
    "_kg_hide-input": false,
    "_kg_hide-output": false,
    "_uuid": "38d24c95258e0efd7f01064e3f0d7c34c1d41620"
   },
   "outputs": [
    {
     "data": {
      "text/plain": [
       "Text(0.5,0,'Count')"
      ]
     },
     "execution_count": 20,
     "metadata": {},
     "output_type": "execute_result"
    },
    {
     "data": {
      "image/png": "[encoded data removed]",
      "text/plain": [
       "<matplotlib.figure.Figure at 0xc59dd50>"
      ]
     },
     "metadata": {},
     "output_type": "display_data"
    }
   ],
   "source": [
    "degree.plot.barh(x='Degree',y='Count',legend=False)\n",
    "plt.title('Degrees Distribution',fontsize=14)\n",
    "plt.xlabel('Count')"
   ]
  },
  {
   "cell_type": "markdown",
   "metadata": {
    "_uuid": "f31536db43334de6768f6c6fb21cab238d26ef19"
   },
   "source": [
    "Obviously, most of the positions require basic degree, while some require further education degree, like Master and PhD.\n",
    "\n",
    "Now, I want to see the distribution of the requiring work experience."
   ]
  },
  {
   "cell_type": "code",
   "execution_count": 21,
   "metadata": {
    "_uuid": "885f66d5e62862014807a1d27275b08cf29beeaf"
   },
   "outputs": [
    {
     "data": {
      "text/plain": [
       "Text(0,0.5,'Years')"
      ]
     },
     "execution_count": 21,
     "metadata": {},
     "output_type": "execute_result"
    },
    {
     "data": {
      "image/png": "[encoded data removed]",
      "text/plain": [
       "<matplotlib.figure.Figure at 0xc5aa670>"
      ]
     },
     "metadata": {},
     "output_type": "display_data"
    }
   ],
   "source": [
    "df.Minimum_years_experience.plot(kind='box')\n",
    "plt.title('Minimum work experience')\n",
    "plt.ylabel('Years')"
   ]
  },
  {
   "cell_type": "markdown",
   "metadata": {
    "_uuid": "378b4e4a439274bfff3447d83a54fa3462c6a852"
   },
   "source": [
    "Well, obviously, there are few outliers. It must be some real senior positions."
   ]
  },
  {
   "cell_type": "code",
   "execution_count": 22,
   "metadata": {
    "_uuid": "43ce095a5c1acf4217bc948bad446ac46fdeeb5f"
   },
   "outputs": [
    {
     "data": {
      "text/plain": [
       "Text(0.5,0.98,'Minimum work experience')"
      ]
     },
     "execution_count": 22,
     "metadata": {},
     "output_type": "execute_result"
    },
    {
     "data": {
      "image/png": "[encoded data removed]",
      "text/plain": [
       "<matplotlib.figure.Figure at 0xfeebf0>"
      ]
     },
     "metadata": {},
     "output_type": "display_data"
    }
   ],
   "source": [
    "import seaborn as sns\n",
    "sns.countplot('Minimum_years_experience',data=df)\n",
    "plt.suptitle('Minimum work experience')"
   ]
  },
  {
   "cell_type": "markdown",
   "metadata": {
    "_uuid": "469e95df2f7ddabf56cd353a4df399f1a1519322"
   },
   "source": [
    "Basically, most of the position didn't mention experience. However, I'll dig deeper later."
   ]
  },
  {
   "cell_type": "code",
   "execution_count": 23,
   "metadata": {
    "_kg_hide-input": false,
    "_uuid": "a1033b773fb1db0fd05385b320446509947c50e9"
   },
   "outputs": [
    {
     "name": "stdout",
     "output_type": "stream",
     "text": [
      "{'Python': 96, 'Java ': 10, 'C#': 15, 'PHP': 7, 'Javascript': 3, 'Ruby': 14, 'Perl': 6, 'SQL': 69, 'Go ': 7}\n"
     ]
    }
   ],
   "source": [
    "Programming_Languages = ['Python', 'Java ','C#', 'PHP', 'Javascript', 'Ruby', 'Perl', 'SQL','Go ']\n",
    "\n",
    "Languages = dict((x,0) for x in Programming_Languages)\n",
    "for i in Languages:\n",
    "    x = df['Minimum_Qualifications'].str.contains(i).sum()\n",
    "    if i in Languages:\n",
    "        Languages[i] = x\n",
    "        \n",
    "print(Languages)"
   ]
  },
  {
   "cell_type": "code",
   "execution_count": 24,
   "metadata": {
    "_kg_hide-input": false,
    "_uuid": "00f9d99d13fb4404bdc082280d604947a302db31"
   },
   "outputs": [
    {
     "data": {
      "text/html": [
       "<div>\n",
       "<style scoped>\n",
       "    .dataframe tbody tr th:only-of-type {\n",
       "        vertical-align: middle;\n",
       "    }\n",
       "\n",
       "    .dataframe tbody tr th {\n",
       "        vertical-align: top;\n",
       "    }\n",
       "\n",
       "    .dataframe thead th {\n",
       "        text-align: right;\n",
       "    }\n",
       "</style>\n",
       "<table border=\"1\" class=\"dataframe\">\n",
       "  <thead>\n",
       "    <tr style=\"text-align: right;\">\n",
       "      <th></th>\n",
       "      <th>Language</th>\n",
       "      <th>Count</th>\n",
       "    </tr>\n",
       "  </thead>\n",
       "  <tbody>\n",
       "    <tr>\n",
       "      <th>0</th>\n",
       "      <td>Python</td>\n",
       "      <td>96</td>\n",
       "    </tr>\n",
       "    <tr>\n",
       "      <th>1</th>\n",
       "      <td>SQL</td>\n",
       "      <td>69</td>\n",
       "    </tr>\n",
       "    <tr>\n",
       "      <th>2</th>\n",
       "      <td>C#</td>\n",
       "      <td>15</td>\n",
       "    </tr>\n",
       "    <tr>\n",
       "      <th>3</th>\n",
       "      <td>Ruby</td>\n",
       "      <td>14</td>\n",
       "    </tr>\n",
       "    <tr>\n",
       "      <th>4</th>\n",
       "      <td>Java</td>\n",
       "      <td>10</td>\n",
       "    </tr>\n",
       "    <tr>\n",
       "      <th>5</th>\n",
       "      <td>PHP</td>\n",
       "      <td>7</td>\n",
       "    </tr>\n",
       "    <tr>\n",
       "      <th>6</th>\n",
       "      <td>Go</td>\n",
       "      <td>7</td>\n",
       "    </tr>\n",
       "    <tr>\n",
       "      <th>7</th>\n",
       "      <td>Perl</td>\n",
       "      <td>6</td>\n",
       "    </tr>\n",
       "    <tr>\n",
       "      <th>8</th>\n",
       "      <td>Javascript</td>\n",
       "      <td>3</td>\n",
       "    </tr>\n",
       "  </tbody>\n",
       "</table>\n",
       "</div>"
      ],
      "text/plain": [
       "     Language  Count\n",
       "0  Python      96   \n",
       "1  SQL         69   \n",
       "2  C#          15   \n",
       "3  Ruby        14   \n",
       "4  Java        10   \n",
       "5  PHP         7    \n",
       "6  Go          7    \n",
       "7  Perl        6    \n",
       "8  Javascript  3    "
      ]
     },
     "execution_count": 24,
     "metadata": {},
     "output_type": "execute_result"
    }
   ],
   "source": [
    "languages_requirement = sorted(Languages.items(), key=lambda x: x[1], reverse=True)\n",
    "language = pd.DataFrame(languages_requirement,columns=['Language','Count'])\n",
    "language['Count'] = language.Count.astype('int')\n",
    "language"
   ]
  },
  {
   "cell_type": "code",
   "execution_count": 25,
   "metadata": {
    "_uuid": "ad01301d7a6d816a8552603043690bb6e97c309b"
   },
   "outputs": [
    {
     "data": {
      "text/plain": [
       "Text(0.5,0,'Count')"
      ]
     },
     "execution_count": 25,
     "metadata": {},
     "output_type": "execute_result"
    },
    {
     "data": {
      "image/png": "[encoded data removed]",
      "text/plain": [
       "<matplotlib.figure.Figure at 0x149e990>"
      ]
     },
     "metadata": {},
     "output_type": "display_data"
    }
   ],
   "source": [
    "language.plot.barh(x='Language',y='Count',legend=False)\n",
    "plt.suptitle('Languages Distribution',fontsize=14)\n",
    "plt.xlabel('Count')"
   ]
  },
  {
   "cell_type": "markdown",
   "metadata": {
    "_uuid": "89bc72b965af0fc04e0cee470e3785b046de4ba2"
   },
   "source": [
    "Python, SQL are also important, which indicates that the growing demand of data analysis"
   ]
  },
  {
   "cell_type": "markdown",
   "metadata": {
    "_uuid": "23f2b35dab0e7cf6ab6317d72b22e7843e8272f8"
   },
   "source": [
    "## <a id=12>Functions</a>\n",
    "As a guy on twitter said, \" If you write a code more than three times, write a function instead.\" I'm here to define the functions that I'm going to use in the next few sections"
   ]
  },
  {
   "cell_type": "code",
   "execution_count": 26,
   "metadata": {},
   "outputs": [],
   "source": [
    "from __future__ import print_function\n",
    "from ipywidgets import interact, interactive, fixed, interact_manual\n",
    "import ipywidgets as widgets\n",
    "\n",
    "from wordcloud import WordCloud, ImageColorGenerator\n",
    "from PIL import Image\n",
    "\n",
    "G = np.array(Image.open('img_2241.png'))"
   ]
  },
  {
   "cell_type": "code",
   "execution_count": 27,
   "metadata": {
    "_uuid": "b4012237d7d62a04e11a80c909b8eec40bdaed8a"
   },
   "outputs": [],
   "source": [
    "def MadeWordCloud(title,text):\n",
    "    # title as the name of position you want to look up\n",
    "    # text as which column you want to extract from\n",
    "    df_subset = df.loc[df.Title.str.contains(title).fillna(False)]\n",
    "    # subset those rows with corresponded title\n",
    "    long_text = ' '.join(df_subset[text].tolist())\n",
    "    # put all text into one long string\n",
    "    sns.set(rc={'figure.figsize':(11.7,8.27)})\n",
    "    wordcloud = WordCloud(mask=G,background_color=\"white\").generate(long_text)\n",
    "    plt.figure()\n",
    "    plt.imshow(wordcloud, interpolation=\"bilinear\")\n",
    "    plt.axis(\"off\")\n",
    "    plt.margins(x=0, y=0)\n",
    "    plt.title(text,size=24)\n",
    "    plt.show()"
   ]
  },
  {
   "cell_type": "markdown",
   "metadata": {},
   "source": [
    "### Here, I want to create word clouds to know more about how to be qualified to be a competitive candidates for data-related positions in Google\n",
    "\n",
    "### Interactive Word Cloud Making"
   ]
  },
  {
   "cell_type": "code",
   "execution_count": 28,
   "metadata": {},
   "outputs": [
    {
     "data": {
      "application/vnd.jupyter.widget-view+json": {
       "model_id": "a503b148d70c4325b85b31818c3f4340",
       "version_major": 2,
       "version_minor": 0
      },
      "text/html": [
       "<p>Failed to display Jupyter Widget of type <code>interactive</code>.</p>\n",
       "<p>\n",
       "  If you're reading this message in the Jupyter Notebook or JupyterLab Notebook, it may mean\n",
       "  that the widgets JavaScript is still loading. If this message persists, it\n",
       "  likely means that the widgets JavaScript library is either not installed or\n",
       "  not enabled. See the <a href=\"https://ipywidgets.readthedocs.io/en/stable/user_install.html\">Jupyter\n",
       "  Widgets Documentation</a> for setup instructions.\n",
       "</p>\n",
       "<p>\n",
       "  If you're reading this message in another frontend (for example, a static\n",
       "  rendering on GitHub or <a href=\"https://nbviewer.jupyter.org/\">NBViewer</a>),\n",
       "  it may mean that your frontend doesn't currently support widgets.\n",
       "</p>\n"
      ],
      "text/plain": [
       "interactive(children=(Text(value='Analyst', description='title'), Text(value='Minimum_Qualifications', description='text'), Output()), _dom_classes=('widget-interact',))"
      ]
     },
     "metadata": {},
     "output_type": "display_data"
    },
    {
     "data": {
      "text/plain": [
       "<function __main__.MadeWordCloud>"
      ]
     },
     "execution_count": 28,
     "metadata": {},
     "output_type": "execute_result"
    }
   ],
   "source": [
    "interact(MadeWordCloud, title='Analyst',text='Minimum_Qualifications')"
   ]
  },
  {
   "cell_type": "code",
   "execution_count": 71,
   "metadata": {},
   "outputs": [],
   "source": [
    "def StringsCounter(string,column = 'Minimum_Qualifications'):\n",
    "    # tool as a list of the name of word you want to count\n",
    "    # column as which column you want to use. Minimum_Qualifications as default\n",
    "    text_count = dict()\n",
    "    for i in string:\n",
    "        x = df[column].str.contains(i).sum()\n",
    "        # count each keys\n",
    "        text_count.update({i:x})\n",
    "        # update in the dictionary\n",
    "    return text_count"
   ]
  },
  {
   "cell_type": "code",
   "execution_count": 58,
   "metadata": {},
   "outputs": [
    {
     "data": {
      "text/plain": [
       "{'Data Studio': 1,\n",
       " 'GA': 7,\n",
       " 'Google Analytics': 5,\n",
       " 'Power BI': 0,\n",
       " 'Qlik': 0,\n",
       " 'Tableau': 8}"
      ]
     },
     "execution_count": 58,
     "metadata": {},
     "output_type": "execute_result"
    }
   ],
   "source": [
    "StringsCounter(['Tableau','Power BI','Qlik','Data Studio','Google Analytics','GA'])"
   ]
  },
  {
   "cell_type": "markdown",
   "metadata": {
    "_uuid": "66a1e791350e4a668bf146a8f03c0c532072c068"
   },
   "source": [
    "It seems that even though Google has Visual Studio made by themselves, Tableau is still taking lead in the field."
   ]
  },
  {
   "cell_type": "markdown",
   "metadata": {
    "_uuid": "66a43e6e72c9edb5e9c134c41e6d5666ebe61110"
   },
   "source": [
    "## <a id=\"7\">Statistical Analysis Tools</a>\n",
    "\n",
    "I wonder if Google do prefer any of the statistical analysis tools. In my acknowledge, there are SPSS, R, Matlab, Excel, Google Spreadsheet, and SAS in this field."
   ]
  },
  {
   "cell_type": "code",
   "execution_count": 59,
   "metadata": {
    "_uuid": "e9491a4b9e67b648313b6ec854e92c70fdd9c828"
   },
   "outputs": [
    {
     "data": {
      "text/plain": [
       "{'Excel': 0, 'Matlab': 4, 'R ': 19, 'SAS': 18, 'SPSS': 6, 'Spreadsheet': 0}"
      ]
     },
     "execution_count": 59,
     "metadata": {},
     "output_type": "execute_result"
    }
   ],
   "source": [
    "StringsCounter(['SPSS','R ','Matlab','Excel','Spreadsheet','SAS'])"
   ]
  },
  {
   "cell_type": "markdown",
   "metadata": {
    "_uuid": "a5332cde4e7094446676644dff3ecb7122124374"
   },
   "source": [
    "So, there are a variety of preference of statistical analysis tools in Google. However, I think most of them prefer R and SAS instead. Still, I'm surprised to see that they do mention SPSS in the requriement."
   ]
  },
  {
   "cell_type": "markdown",
   "metadata": {
    "_uuid": "ec9ec19a211ea632716cb54bc1f86986583a1ce0",
    "collapsed": true
   },
   "source": [
    "## <a id=\"8\">Let's see the positions in the US</a>"
   ]
  },
  {
   "cell_type": "code",
   "execution_count": 66,
   "metadata": {},
   "outputs": [],
   "source": [
    "import squarify\n",
    "import matplotlib\n",
    "def squarify_plot(location):\n",
    "    df_subset = df.loc[df.Country == str(' '+location)]\n",
    "    df_subset = df_subset.Category.value_counts()\n",
    "    df_subset = df_subset.rename_axis('Type').reset_index(name='counts')\n",
    "    matplotlib.rcParams.update({'font.size': 10})\n",
    "    cmap = matplotlib.cm.Blues\n",
    "    norm = matplotlib.colors.Normalize(vmin=min(df_subset.counts), vmax=max(df_subset.counts))\n",
    "    colors = [cmap(norm(value)) for value in df_subset.counts]\n",
    "    fig = plt.gcf()\n",
    "    ax = fig.add_subplot()\n",
    "    fig.set_size_inches(24, 6)\n",
    "    squarify.plot(sizes=df_subset['counts'], label=df_subset['Type'], alpha=.8, color=colors)\n",
    "    plt.title('Type of positions',fontsize=20,fontweight=\"bold\")\n",
    "    plt.axis('off')\n",
    "    plt.show()"
   ]
  },
  {
   "cell_type": "code",
   "execution_count": 69,
   "metadata": {
    "_uuid": "6b7f184e616f421837a809d4e1284d8381a855b3"
   },
   "outputs": [
    {
     "data": {
      "application/vnd.jupyter.widget-view+json": {
       "model_id": "3e564d1b259044b8b7d826ebcd972b86",
       "version_major": 2,
       "version_minor": 0
      },
      "text/html": [
       "<p>Failed to display Jupyter Widget of type <code>interactive</code>.</p>\n",
       "<p>\n",
       "  If you're reading this message in the Jupyter Notebook or JupyterLab Notebook, it may mean\n",
       "  that the widgets JavaScript is still loading. If this message persists, it\n",
       "  likely means that the widgets JavaScript library is either not installed or\n",
       "  not enabled. See the <a href=\"https://ipywidgets.readthedocs.io/en/stable/user_install.html\">Jupyter\n",
       "  Widgets Documentation</a> for setup instructions.\n",
       "</p>\n",
       "<p>\n",
       "  If you're reading this message in another frontend (for example, a static\n",
       "  rendering on GitHub or <a href=\"https://nbviewer.jupyter.org/\">NBViewer</a>),\n",
       "  it may mean that your frontend doesn't currently support widgets.\n",
       "</p>\n"
      ],
      "text/plain": [
       "interactive(children=(Text(value='United States', description='location'), Output()), _dom_classes=('widget-interact',))"
      ]
     },
     "metadata": {},
     "output_type": "display_data"
    },
    {
     "data": {
      "text/plain": [
       "<function __main__.squarify_plot>"
      ]
     },
     "execution_count": 69,
     "metadata": {},
     "output_type": "execute_result"
    }
   ],
   "source": [
    "interact(squarify_plot,location = 'United States')"
   ]
  },
  {
   "cell_type": "markdown",
   "metadata": {
    "_uuid": "d9b93fb27777a78e08ca186e9955f245cc54f7d6"
   },
   "source": [
    "## <a id=\"9\">PMs (Product Manager, Project Manager, and Program Manager</a>\n",
    "\n",
    "I wonder how is the distribution of PMs in Google. In my opinion, Project Manager might be the most of them since project management is important in each position category."
   ]
  },
  {
   "cell_type": "code",
   "execution_count": 72,
   "metadata": {
    "_uuid": "191d7f2d8794b03d814ee14fadab1b1542a11bba"
   },
   "outputs": [
    {
     "data": {
      "text/plain": [
       "{'Product Manager': 1, 'Program Manager': 41, 'Project Manager': 7}"
      ]
     },
     "execution_count": 72,
     "metadata": {},
     "output_type": "execute_result"
    }
   ],
   "source": [
    "StringsCounter(['Product Manager','Project Manager','Program Manager'],'Title')"
   ]
  },
  {
   "cell_type": "markdown",
   "metadata": {
    "_uuid": "ce2b6473e8c91aca7cbdcb609d1483cef9afd12a"
   },
   "source": [
    "Well, different from my expectation, it turns out that most of them are program managers. It does make sense because Google is more like a Software as a Service company in many aspects.   \n",
    "However, I still want to see if Jira, scrum, and agile, those project management phrases are mentioned or not."
   ]
  },
  {
   "cell_type": "code",
   "execution_count": 73,
   "metadata": {
    "_uuid": "abad07709d0c6ad055c562eb76309fe856b22fa4"
   },
   "outputs": [
    {
     "data": {
      "text/plain": [
       "{'Jira': 0, 'agile': 16, 'scrum': 0}"
      ]
     },
     "execution_count": 73,
     "metadata": {},
     "output_type": "execute_result"
    }
   ],
   "source": [
    "StringsCounter(['Jira','scrum','agile'])"
   ]
  },
  {
   "cell_type": "code",
   "execution_count": 74,
   "metadata": {
    "_uuid": "0a8115f6fd4feef052ed3a3fe7e337c8ff37ebcd"
   },
   "outputs": [
    {
     "data": {
      "text/plain": [
       "{'Jira': 0, 'agile': 10, 'scrum': 0}"
      ]
     },
     "execution_count": 74,
     "metadata": {},
     "output_type": "execute_result"
    }
   ],
   "source": [
    "StringsCounter(['Jira','scrum','agile'],'Preferred_Qualifications')"
   ]
  },
  {
   "cell_type": "markdown",
   "metadata": {
    "_uuid": "9b2500e3022369ca6ed3b954755a0c6cc3fc6a20"
   },
   "source": [
    "Well, obvious, I think Agile is important to many roles, and Google doesn't have specific Project Management tools preference."
   ]
  },
  {
   "cell_type": "markdown",
   "metadata": {
    "_uuid": "075d8e3e298588314b07c749750a22ef6a9810f1"
   },
   "source": [
    "## <a id=\"10\">Pivot tables</a>"
   ]
  },
  {
   "cell_type": "code",
   "execution_count": 75,
   "metadata": {
    "_uuid": "2e9443a27927132fec7eb65cb4aabef251c21c9d"
   },
   "outputs": [],
   "source": [
    "df_groupby_country_category = df.groupby(['Country','Category'])['Category'].count()"
   ]
  },
  {
   "cell_type": "code",
   "execution_count": 76,
   "metadata": {
    "_uuid": "46aa7b2ce3754fa292f820aa3a059b3f22f5b6b8"
   },
   "outputs": [
    {
     "data": {
      "text/plain": [
       "Category\n",
       "Administrative                      7 \n",
       "Business Strategy                   75\n",
       "Data Center & Network               2 \n",
       "Developer Relations                 2 \n",
       "Finance                             79\n",
       "Hardware Engineering                16\n",
       "IT & Data Management                1 \n",
       "Legal & Government Relations        15\n",
       "Manufacturing & Supply Chain        4 \n",
       "Marketing & Communications          88\n",
       "Partnerships                        28\n",
       "People Operations                   56\n",
       "Product & Customer Support          18\n",
       "Program Management                  46\n",
       "Real Estate & Workplace Services    14\n",
       "Sales & Account Management          42\n",
       "Sales Operations                    12\n",
       "Software Engineering                8 \n",
       "Technical Infrastructure            7 \n",
       "Technical Solutions                 17\n",
       "Technical Writing                   5 \n",
       "User Experience & Design            65\n",
       "Name: Category, dtype: int64"
      ]
     },
     "execution_count": 76,
     "metadata": {},
     "output_type": "execute_result"
    }
   ],
   "source": [
    "df_groupby_country_category.loc[' United States']"
   ]
  },
  {
   "cell_type": "markdown",
   "metadata": {
    "_uuid": "3df8f5088f50040e8417adbba4560037c0446232"
   },
   "source": [
    "In this way, I can more thoroughly see the distribution of positions in each country."
   ]
  },
  {
   "cell_type": "code",
   "execution_count": 77,
   "metadata": {
    "_uuid": "396850b7d55ee1838d41bc44ea5f9c72d166fadb"
   },
   "outputs": [],
   "source": [
    "category_country = df.pivot_table(index=['Country','Category'],values='Minimum_years_experience',aggfunc='median')"
   ]
  },
  {
   "cell_type": "code",
   "execution_count": 78,
   "metadata": {
    "_uuid": "2dca1917b54bab7d21e9200d292e39d03b635575"
   },
   "outputs": [
    {
     "data": {
      "text/html": [
       "<div>\n",
       "<style scoped>\n",
       "    .dataframe tbody tr th:only-of-type {\n",
       "        vertical-align: middle;\n",
       "    }\n",
       "\n",
       "    .dataframe tbody tr th {\n",
       "        vertical-align: top;\n",
       "    }\n",
       "\n",
       "    .dataframe thead th {\n",
       "        text-align: right;\n",
       "    }\n",
       "</style>\n",
       "<table border=\"1\" class=\"dataframe\">\n",
       "  <thead>\n",
       "    <tr style=\"text-align: right;\">\n",
       "      <th></th>\n",
       "      <th>Minimum_years_experience</th>\n",
       "    </tr>\n",
       "    <tr>\n",
       "      <th>Category</th>\n",
       "      <th></th>\n",
       "    </tr>\n",
       "  </thead>\n",
       "  <tbody>\n",
       "    <tr>\n",
       "      <th>Administrative</th>\n",
       "      <td>0.0</td>\n",
       "    </tr>\n",
       "    <tr>\n",
       "      <th>Business Strategy</th>\n",
       "      <td>2.0</td>\n",
       "    </tr>\n",
       "    <tr>\n",
       "      <th>Data Center &amp; Network</th>\n",
       "      <td>7.5</td>\n",
       "    </tr>\n",
       "    <tr>\n",
       "      <th>Developer Relations</th>\n",
       "      <td>0.0</td>\n",
       "    </tr>\n",
       "    <tr>\n",
       "      <th>Finance</th>\n",
       "      <td>4.0</td>\n",
       "    </tr>\n",
       "    <tr>\n",
       "      <th>Hardware Engineering</th>\n",
       "      <td>5.0</td>\n",
       "    </tr>\n",
       "    <tr>\n",
       "      <th>IT &amp; Data Management</th>\n",
       "      <td>2.0</td>\n",
       "    </tr>\n",
       "    <tr>\n",
       "      <th>Legal &amp; Government Relations</th>\n",
       "      <td>4.0</td>\n",
       "    </tr>\n",
       "    <tr>\n",
       "      <th>Manufacturing &amp; Supply Chain</th>\n",
       "      <td>6.5</td>\n",
       "    </tr>\n",
       "    <tr>\n",
       "      <th>Marketing &amp; Communications</th>\n",
       "      <td>5.0</td>\n",
       "    </tr>\n",
       "    <tr>\n",
       "      <th>Partnerships</th>\n",
       "      <td>5.0</td>\n",
       "    </tr>\n",
       "    <tr>\n",
       "      <th>People Operations</th>\n",
       "      <td>3.5</td>\n",
       "    </tr>\n",
       "    <tr>\n",
       "      <th>Product &amp; Customer Support</th>\n",
       "      <td>4.5</td>\n",
       "    </tr>\n",
       "    <tr>\n",
       "      <th>Program Management</th>\n",
       "      <td>5.0</td>\n",
       "    </tr>\n",
       "    <tr>\n",
       "      <th>Real Estate &amp; Workplace Services</th>\n",
       "      <td>5.0</td>\n",
       "    </tr>\n",
       "    <tr>\n",
       "      <th>Sales &amp; Account Management</th>\n",
       "      <td>5.0</td>\n",
       "    </tr>\n",
       "    <tr>\n",
       "      <th>Sales Operations</th>\n",
       "      <td>4.0</td>\n",
       "    </tr>\n",
       "    <tr>\n",
       "      <th>Software Engineering</th>\n",
       "      <td>0.5</td>\n",
       "    </tr>\n",
       "    <tr>\n",
       "      <th>Technical Infrastructure</th>\n",
       "      <td>2.0</td>\n",
       "    </tr>\n",
       "    <tr>\n",
       "      <th>Technical Solutions</th>\n",
       "      <td>0.0</td>\n",
       "    </tr>\n",
       "    <tr>\n",
       "      <th>Technical Writing</th>\n",
       "      <td>0.0</td>\n",
       "    </tr>\n",
       "    <tr>\n",
       "      <th>User Experience &amp; Design</th>\n",
       "      <td>3.0</td>\n",
       "    </tr>\n",
       "  </tbody>\n",
       "</table>\n",
       "</div>"
      ],
      "text/plain": [
       "                                  Minimum_years_experience\n",
       "Category                                                  \n",
       "Administrative                    0.0                     \n",
       "Business Strategy                 2.0                     \n",
       "Data Center & Network             7.5                     \n",
       "Developer Relations               0.0                     \n",
       "Finance                           4.0                     \n",
       "Hardware Engineering              5.0                     \n",
       "IT & Data Management              2.0                     \n",
       "Legal & Government Relations      4.0                     \n",
       "Manufacturing & Supply Chain      6.5                     \n",
       "Marketing & Communications        5.0                     \n",
       "Partnerships                      5.0                     \n",
       "People Operations                 3.5                     \n",
       "Product & Customer Support        4.5                     \n",
       "Program Management                5.0                     \n",
       "Real Estate & Workplace Services  5.0                     \n",
       "Sales & Account Management        5.0                     \n",
       "Sales Operations                  4.0                     \n",
       "Software Engineering              0.5                     \n",
       "Technical Infrastructure          2.0                     \n",
       "Technical Solutions               0.0                     \n",
       "Technical Writing                 0.0                     \n",
       "User Experience & Design          3.0                     "
      ]
     },
     "execution_count": 78,
     "metadata": {},
     "output_type": "execute_result"
    }
   ],
   "source": [
    "category_country.loc[' United States']"
   ]
  },
  {
   "cell_type": "code",
   "execution_count": 79,
   "metadata": {
    "_uuid": "72c401b1a5a31ebe4e44ec1dd15cb1b21d0aed70"
   },
   "outputs": [
    {
     "data": {
      "text/html": [
       "<div>\n",
       "<style scoped>\n",
       "    .dataframe tbody tr th:only-of-type {\n",
       "        vertical-align: middle;\n",
       "    }\n",
       "\n",
       "    .dataframe tbody tr th {\n",
       "        vertical-align: top;\n",
       "    }\n",
       "\n",
       "    .dataframe thead th {\n",
       "        text-align: right;\n",
       "    }\n",
       "</style>\n",
       "<table border=\"1\" class=\"dataframe\">\n",
       "  <thead>\n",
       "    <tr style=\"text-align: right;\">\n",
       "      <th></th>\n",
       "      <th>Minimum_years_experience</th>\n",
       "    </tr>\n",
       "    <tr>\n",
       "      <th>Category</th>\n",
       "      <th></th>\n",
       "    </tr>\n",
       "  </thead>\n",
       "  <tbody>\n",
       "    <tr>\n",
       "      <th>Administrative</th>\n",
       "      <td>0.0</td>\n",
       "    </tr>\n",
       "    <tr>\n",
       "      <th>Business Strategy</th>\n",
       "      <td>3.0</td>\n",
       "    </tr>\n",
       "    <tr>\n",
       "      <th>Finance</th>\n",
       "      <td>2.0</td>\n",
       "    </tr>\n",
       "    <tr>\n",
       "      <th>Legal &amp; Government Relations</th>\n",
       "      <td>6.0</td>\n",
       "    </tr>\n",
       "    <tr>\n",
       "      <th>Partnerships</th>\n",
       "      <td>1.5</td>\n",
       "    </tr>\n",
       "    <tr>\n",
       "      <th>People Operations</th>\n",
       "      <td>3.0</td>\n",
       "    </tr>\n",
       "    <tr>\n",
       "      <th>Product &amp; Customer Support</th>\n",
       "      <td>0.0</td>\n",
       "    </tr>\n",
       "    <tr>\n",
       "      <th>Program Management</th>\n",
       "      <td>5.0</td>\n",
       "    </tr>\n",
       "    <tr>\n",
       "      <th>Sales &amp; Account Management</th>\n",
       "      <td>5.0</td>\n",
       "    </tr>\n",
       "    <tr>\n",
       "      <th>Sales Operations</th>\n",
       "      <td>2.0</td>\n",
       "    </tr>\n",
       "    <tr>\n",
       "      <th>Technical Solutions</th>\n",
       "      <td>5.0</td>\n",
       "    </tr>\n",
       "    <tr>\n",
       "      <th>User Experience &amp; Design</th>\n",
       "      <td>2.5</td>\n",
       "    </tr>\n",
       "  </tbody>\n",
       "</table>\n",
       "</div>"
      ],
      "text/plain": [
       "                              Minimum_years_experience\n",
       "Category                                              \n",
       "Administrative                0.0                     \n",
       "Business Strategy             3.0                     \n",
       "Finance                       2.0                     \n",
       "Legal & Government Relations  6.0                     \n",
       "Partnerships                  1.5                     \n",
       "People Operations             3.0                     \n",
       "Product & Customer Support    0.0                     \n",
       "Program Management            5.0                     \n",
       "Sales & Account Management    5.0                     \n",
       "Sales Operations              2.0                     \n",
       "Technical Solutions           5.0                     \n",
       "User Experience & Design      2.5                     "
      ]
     },
     "execution_count": 79,
     "metadata": {},
     "output_type": "execute_result"
    }
   ],
   "source": [
    "category_country.loc['Singapore']"
   ]
  },
  {
   "cell_type": "code",
   "execution_count": 80,
   "metadata": {
    "_uuid": "b7a343b2126fb076c6ac972cc433f1a3aa5038bb"
   },
   "outputs": [
    {
     "data": {
      "text/html": [
       "<div>\n",
       "<style scoped>\n",
       "    .dataframe tbody tr th:only-of-type {\n",
       "        vertical-align: middle;\n",
       "    }\n",
       "\n",
       "    .dataframe tbody tr th {\n",
       "        vertical-align: top;\n",
       "    }\n",
       "\n",
       "    .dataframe thead th {\n",
       "        text-align: right;\n",
       "    }\n",
       "</style>\n",
       "<table border=\"1\" class=\"dataframe\">\n",
       "  <thead>\n",
       "    <tr style=\"text-align: right;\">\n",
       "      <th></th>\n",
       "      <th>Minimum_years_experience</th>\n",
       "    </tr>\n",
       "    <tr>\n",
       "      <th>Category</th>\n",
       "      <th></th>\n",
       "    </tr>\n",
       "  </thead>\n",
       "  <tbody>\n",
       "    <tr>\n",
       "      <th>Administrative</th>\n",
       "      <td>0.0</td>\n",
       "    </tr>\n",
       "    <tr>\n",
       "      <th>Finance</th>\n",
       "      <td>8.0</td>\n",
       "    </tr>\n",
       "    <tr>\n",
       "      <th>Hardware Engineering</th>\n",
       "      <td>5.0</td>\n",
       "    </tr>\n",
       "    <tr>\n",
       "      <th>Legal &amp; Government Relations</th>\n",
       "      <td>8.0</td>\n",
       "    </tr>\n",
       "    <tr>\n",
       "      <th>Manufacturing &amp; Supply Chain</th>\n",
       "      <td>5.5</td>\n",
       "    </tr>\n",
       "    <tr>\n",
       "      <th>People Operations</th>\n",
       "      <td>7.5</td>\n",
       "    </tr>\n",
       "    <tr>\n",
       "      <th>Program Management</th>\n",
       "      <td>3.0</td>\n",
       "    </tr>\n",
       "    <tr>\n",
       "      <th>Real Estate &amp; Workplace Services</th>\n",
       "      <td>8.0</td>\n",
       "    </tr>\n",
       "    <tr>\n",
       "      <th>Sales &amp; Account Management</th>\n",
       "      <td>4.0</td>\n",
       "    </tr>\n",
       "    <tr>\n",
       "      <th>Software Engineering</th>\n",
       "      <td>1.5</td>\n",
       "    </tr>\n",
       "  </tbody>\n",
       "</table>\n",
       "</div>"
      ],
      "text/plain": [
       "                                  Minimum_years_experience\n",
       "Category                                                  \n",
       "Administrative                    0.0                     \n",
       "Finance                           8.0                     \n",
       "Hardware Engineering              5.0                     \n",
       "Legal & Government Relations      8.0                     \n",
       "Manufacturing & Supply Chain      5.5                     \n",
       "People Operations                 7.5                     \n",
       "Program Management                3.0                     \n",
       "Real Estate & Workplace Services  8.0                     \n",
       "Sales & Account Management        4.0                     \n",
       "Software Engineering              1.5                     "
      ]
     },
     "execution_count": 80,
     "metadata": {},
     "output_type": "execute_result"
    }
   ],
   "source": [
    "category_country.loc[' Taiwan']"
   ]
  },
  {
   "cell_type": "code",
   "execution_count": 81,
   "metadata": {
    "_uuid": "b73f90a14841f26c8c069e415ee758678232d47b"
   },
   "outputs": [
    {
     "data": {
      "text/html": [
       "<div>\n",
       "<style scoped>\n",
       "    .dataframe tbody tr th:only-of-type {\n",
       "        vertical-align: middle;\n",
       "    }\n",
       "\n",
       "    .dataframe tbody tr th {\n",
       "        vertical-align: top;\n",
       "    }\n",
       "\n",
       "    .dataframe thead th {\n",
       "        text-align: right;\n",
       "    }\n",
       "</style>\n",
       "<table border=\"1\" class=\"dataframe\">\n",
       "  <thead>\n",
       "    <tr style=\"text-align: right;\">\n",
       "      <th></th>\n",
       "      <th>Minimum_years_experience</th>\n",
       "    </tr>\n",
       "    <tr>\n",
       "      <th>Category</th>\n",
       "      <th></th>\n",
       "    </tr>\n",
       "  </thead>\n",
       "  <tbody>\n",
       "    <tr>\n",
       "      <th>Marketing &amp; Communications</th>\n",
       "      <td>8.0</td>\n",
       "    </tr>\n",
       "    <tr>\n",
       "      <th>Partnerships</th>\n",
       "      <td>8.0</td>\n",
       "    </tr>\n",
       "    <tr>\n",
       "      <th>People Operations</th>\n",
       "      <td>5.0</td>\n",
       "    </tr>\n",
       "    <tr>\n",
       "      <th>Product &amp; Customer Support</th>\n",
       "      <td>6.0</td>\n",
       "    </tr>\n",
       "    <tr>\n",
       "      <th>Program Management</th>\n",
       "      <td>4.0</td>\n",
       "    </tr>\n",
       "    <tr>\n",
       "      <th>Sales &amp; Account Management</th>\n",
       "      <td>12.0</td>\n",
       "    </tr>\n",
       "    <tr>\n",
       "      <th>Sales Operations</th>\n",
       "      <td>8.0</td>\n",
       "    </tr>\n",
       "    <tr>\n",
       "      <th>Software Engineering</th>\n",
       "      <td>5.0</td>\n",
       "    </tr>\n",
       "    <tr>\n",
       "      <th>Technical Solutions</th>\n",
       "      <td>1.5</td>\n",
       "    </tr>\n",
       "    <tr>\n",
       "      <th>User Experience &amp; Design</th>\n",
       "      <td>8.0</td>\n",
       "    </tr>\n",
       "  </tbody>\n",
       "</table>\n",
       "</div>"
      ],
      "text/plain": [
       "                            Minimum_years_experience\n",
       "Category                                            \n",
       "Marketing & Communications  8.0                     \n",
       "Partnerships                8.0                     \n",
       "People Operations           5.0                     \n",
       "Product & Customer Support  6.0                     \n",
       "Program Management          4.0                     \n",
       "Sales & Account Management  12.0                    \n",
       "Sales Operations            8.0                     \n",
       "Software Engineering        5.0                     \n",
       "Technical Solutions         1.5                     \n",
       "User Experience & Design    8.0                     "
      ]
     },
     "execution_count": 81,
     "metadata": {},
     "output_type": "execute_result"
    }
   ],
   "source": [
    "category_country.loc[' India']"
   ]
  },
  {
   "cell_type": "markdown",
   "metadata": {
    "_uuid": "1ca94ad99b11905eff2762b28bf196d1ed4d5513"
   },
   "source": [
    "We can see that the people in Legal dept required more experience than other. And so does the Supply Chain dept in the US."
   ]
  },
  {
   "cell_type": "markdown",
   "metadata": {
    "_uuid": "04784436e25c10fedfe6986f7323cdf323f43a94",
    "collapsed": true
   },
   "source": [
    "**<a id=11>To sum up, there are two parts I want to talk about:</a>**\n",
    "\n",
    "### 1. Application of this EDA\n",
    "\n",
    "* With str.contains and re.findall, I can extract some keywords and count appearance through the dataset after I browse it roughly by myself\n",
    "* I can easily find some keywords with wordcloud, then dig deeper afterward\n",
    "* This can be used on large data of social network posts or articles\n",
    "* Maybe sentimental analysis\n",
    "\n",
    "### 2. What I know about Google after the research\n",
    "\n",
    "* Basically, you need a bachelor or equivalent degree to get in Google, master and MBA can earn you a better position among the candidates\n",
    "* Java and Python are three most important languages in Google, while SQL is also important to analysts and sales\n",
    "* Knowing business and having good communication, management skills are great characteristic to get a job in Google\n",
    "* Project management and agile methodologies might be preferred\n",
    "* Tableau takes the lead of data visualization tools\n",
    "* The data center in the states requires more experience than other department"
   ]
  },
  {
   "cell_type": "code",
   "execution_count": null,
   "metadata": {
    "_uuid": "4c560891cd7ead2f17d58c81d281f4b59021d03c"
   },
   "outputs": [],
   "source": []
  }
 ],
 "metadata": {
  "kernelspec": {
   "display_name": "Python 3",
   "language": "python",
   "name": "python3"
  },
  "language_info": {
   "codemirror_mode": {
    "name": "ipython",
    "version": 3
   },
   "file_extension": ".py",
   "mimetype": "text/x-python",
   "name": "python",
   "nbconvert_exporter": "python",
   "pygments_lexer": "ipython3",
   "version": "3.6.3"
  }
 },
 "nbformat": 4,
 "nbformat_minor": 1
}
